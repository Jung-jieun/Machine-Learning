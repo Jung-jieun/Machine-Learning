{
 "cells": [
  {
   "cell_type": "code",
   "execution_count": 1,
   "id": "35b1405a",
   "metadata": {},
   "outputs": [
    {
     "name": "stdout",
     "output_type": "stream",
     "text": [
      "Downloading data from https://storage.googleapis.com/tensorflow/tf-keras-datasets/imdb.npz\n",
      "17464789/17464789 [==============================] - 2s 0us/step\n"
     ]
    }
   ],
   "source": [
    "from tensorflow.keras.datasets import imdb\n",
    "(train_input, train_target), (test_input, test_target) = imdb.load_data(num_words=500)"
   ]
  },
  {
   "cell_type": "markdown",
   "id": "edbdbc03",
   "metadata": {},
   "source": [
    "- 500개의 단어만 들어가 있음"
   ]
  },
  {
   "cell_type": "code",
   "execution_count": 2,
   "id": "d745f161",
   "metadata": {},
   "outputs": [
    {
     "name": "stdout",
     "output_type": "stream",
     "text": [
      "(25000,) (25000,)\n"
     ]
    }
   ],
   "source": [
    "print(train_input.shape, test_input.shape)"
   ]
  },
  {
   "cell_type": "markdown",
   "id": "0f802532",
   "metadata": {},
   "source": [
    "- 개별 리뷰를 담은 파이썬 리스트 객체로 이루어진 넘파이 배열"
   ]
  },
  {
   "cell_type": "code",
   "execution_count": 3,
   "id": "b5be0107",
   "metadata": {},
   "outputs": [
    {
     "name": "stdout",
     "output_type": "stream",
     "text": [
      "218\n"
     ]
    }
   ],
   "source": [
    "print(len(train_input[0]))"
   ]
  },
  {
   "cell_type": "code",
   "execution_count": 4,
   "id": "6c5045b2",
   "metadata": {},
   "outputs": [
    {
     "name": "stdout",
     "output_type": "stream",
     "text": [
      "189\n"
     ]
    }
   ],
   "source": [
    "print(len(train_input[1]))"
   ]
  },
  {
   "cell_type": "code",
   "execution_count": 5,
   "id": "8e743a9f",
   "metadata": {},
   "outputs": [
    {
     "name": "stdout",
     "output_type": "stream",
     "text": [
      "[1, 14, 22, 16, 43, 2, 2, 2, 2, 65, 458, 2, 66, 2, 4, 173, 36, 256, 5, 25, 100, 43, 2, 112, 50, 2, 2, 9, 35, 480, 284, 5, 150, 4, 172, 112, 167, 2, 336, 385, 39, 4, 172, 2, 2, 17, 2, 38, 13, 447, 4, 192, 50, 16, 6, 147, 2, 19, 14, 22, 4, 2, 2, 469, 4, 22, 71, 87, 12, 16, 43, 2, 38, 76, 15, 13, 2, 4, 22, 17, 2, 17, 12, 16, 2, 18, 2, 5, 62, 386, 12, 8, 316, 8, 106, 5, 4, 2, 2, 16, 480, 66, 2, 33, 4, 130, 12, 16, 38, 2, 5, 25, 124, 51, 36, 135, 48, 25, 2, 33, 6, 22, 12, 215, 28, 77, 52, 5, 14, 407, 16, 82, 2, 8, 4, 107, 117, 2, 15, 256, 4, 2, 7, 2, 5, 2, 36, 71, 43, 2, 476, 26, 400, 317, 46, 7, 4, 2, 2, 13, 104, 88, 4, 381, 15, 297, 98, 32, 2, 56, 26, 141, 6, 194, 2, 18, 4, 226, 22, 21, 134, 476, 26, 480, 5, 144, 30, 2, 18, 51, 36, 28, 224, 92, 25, 104, 4, 226, 65, 16, 38, 2, 88, 12, 16, 283, 5, 16, 2, 113, 103, 32, 15, 16, 2, 19, 178, 32]\n"
     ]
    }
   ],
   "source": [
    "print(train_input[0])"
   ]
  },
  {
   "cell_type": "code",
   "execution_count": 6,
   "id": "9ae11b8d",
   "metadata": {},
   "outputs": [
    {
     "name": "stdout",
     "output_type": "stream",
     "text": [
      "[1 0 0 1 0 0 1 0 1 0 1 0 0 0 0 0 1 1 0 1]\n"
     ]
    }
   ],
   "source": [
    "print(train_target[:20])"
   ]
  },
  {
   "cell_type": "markdown",
   "id": "45cfcd36",
   "metadata": {},
   "source": [
    "- 0 : 부정\n",
    "- 1 : 긍정"
   ]
  },
  {
   "cell_type": "code",
   "execution_count": 8,
   "id": "fc2b8ca3",
   "metadata": {},
   "outputs": [],
   "source": [
    "from sklearn.model_selection import train_test_split\n",
    "train_input, val_input, train_target, val_target = train_test_split(\n",
    "train_input, train_target, test_size=0.2, random_state=42)"
   ]
  },
  {
   "cell_type": "code",
   "execution_count": 9,
   "id": "be35e04d",
   "metadata": {},
   "outputs": [],
   "source": [
    "import numpy as np\n",
    "lengths = np.array([len(x) for x in train_input])"
   ]
  },
  {
   "cell_type": "code",
   "execution_count": 10,
   "id": "b1f15397",
   "metadata": {},
   "outputs": [
    {
     "name": "stdout",
     "output_type": "stream",
     "text": [
      "239.00925 178.0\n"
     ]
    }
   ],
   "source": [
    "print(np.mean(lengths), np.median(lengths))"
   ]
  },
  {
   "cell_type": "code",
   "execution_count": 11,
   "id": "83674481",
   "metadata": {},
   "outputs": [
    {
     "data": {
      "image/png": "[encoded data removed]",
      "text/plain": [
       "<Figure size 432x288 with 1 Axes>"
      ]
     },
     "metadata": {
      "needs_background": "light"
     },
     "output_type": "display_data"
    }
   ],
   "source": [
    "import matplotlib.pyplot as plt\n",
    "plt.hist(lengths)\n",
    "plt.xlabel('length')\n",
    "plt.ylabel('frequency')\n",
    "plt.show()"
   ]
  },
  {
   "cell_type": "markdown",
   "id": "9b4a5516",
   "metadata": {},
   "source": [
    "- 대부분 리뷰 길이 300 미만 -> 100개의 단어만 사용\n",
    "- 100개의 단어보다 작은 리뷰는 padding 필요"
   ]
  },
  {
   "cell_type": "code",
   "execution_count": 13,
   "id": "002451cc",
   "metadata": {},
   "outputs": [],
   "source": [
    "from tensorflow.keras.preprocessing.sequence import pad_sequences\n",
    "train_seq = pad_sequences(train_input, maxlen=100)"
   ]
  },
  {
   "cell_type": "code",
   "execution_count": 14,
   "id": "1be73eca",
   "metadata": {},
   "outputs": [
    {
     "name": "stdout",
     "output_type": "stream",
     "text": [
      "(20000, 100)\n"
     ]
    }
   ],
   "source": [
    "print(train_seq.shape)"
   ]
  },
  {
   "cell_type": "code",
   "execution_count": 15,
   "id": "11b6552d",
   "metadata": {},
   "outputs": [
    {
     "name": "stdout",
     "output_type": "stream",
     "text": [
      "[ 10   4  20   9   2 364 352   5  45   6   2   2  33 269   8   2 142   2\n",
      "   5   2  17  73  17 204   5   2  19  55   2   2  92  66 104  14  20  93\n",
      "  76   2 151  33   4  58  12 188   2 151  12 215  69 224 142  73 237   6\n",
      "   2   7   2   2 188   2 103  14  31  10  10 451   7   2   5   2  80  91\n",
      "   2  30   2  34  14  20 151  50  26 131  49   2  84  46  50  37  80  79\n",
      "   6   2  46   7  14  20  10  10 470 158]\n"
     ]
    }
   ],
   "source": [
    "print(train_seq[0])"
   ]
  },
  {
   "cell_type": "code",
   "execution_count": 17,
   "id": "3e82d0bb",
   "metadata": {},
   "outputs": [
    {
     "name": "stdout",
     "output_type": "stream",
     "text": [
      "[6, 2, 46, 7, 14, 20, 10, 10, 470, 158]\n"
     ]
    }
   ],
   "source": [
    "print(train_input[0][-10:])"
   ]
  },
  {
   "cell_type": "markdown",
   "id": "66048b5d",
   "metadata": {},
   "source": [
    "- 샘플의 앞부분이 잘림\n",
    "- maxlen 보다 긴 시퀀스의 앞부분을 자름"
   ]
  },
  {
   "cell_type": "code",
   "execution_count": 18,
   "id": "e2c94613",
   "metadata": {},
   "outputs": [
    {
     "name": "stdout",
     "output_type": "stream",
     "text": [
      "[  0   0   0   0   1   2 195  19  49   2   2 190   4   2 352   2 183  10\n",
      "  10  13  82  79   4   2  36  71 269   8   2  25  19  49   7   4   2   2\n",
      "   2   2   2  10  10  48  25  40   2  11   2   2  40   2   2   5   4   2\n",
      "   2  95  14 238  56 129   2  10  10  21   2  94 364 352   2   2  11 190\n",
      "  24 484   2   7  94 205 405  10  10  87   2  34  49   2   7   2   2   2\n",
      "   2   2 290   2  46  48  64  18   4   2]\n"
     ]
    }
   ],
   "source": [
    "print(train_seq[5])"
   ]
  },
  {
   "cell_type": "code",
   "execution_count": 20,
   "id": "839e6db9",
   "metadata": {},
   "outputs": [],
   "source": [
    "val_seq = pad_sequences(val_input, maxlen=100)"
   ]
  },
  {
   "cell_type": "code",
   "execution_count": 21,
   "id": "ead73a55",
   "metadata": {},
   "outputs": [],
   "source": [
    "from tensorflow import keras\n",
    "model = keras.Sequential()\n",
    "model.add(keras.layers.SimpleRNN(8, input_shape=(100,500)))\n",
    "# input_shape(샘플의 길이, 단어 개수)\n",
    "model.add(keras.layers.Dense(1, activation='sigmoid'))"
   ]
  },
  {
   "cell_type": "markdown",
   "id": "c4e5f941",
   "metadata": {},
   "source": [
    "### 원-핫 인코딩 사용"
   ]
  },
  {
   "cell_type": "code",
   "execution_count": 22,
   "id": "46a6f7c8",
   "metadata": {},
   "outputs": [],
   "source": [
    "train_oh = keras.utils.to_categorical(train_seq)"
   ]
  },
  {
   "cell_type": "code",
   "execution_count": 23,
   "id": "5ce1f89e",
   "metadata": {},
   "outputs": [
    {
     "name": "stdout",
     "output_type": "stream",
     "text": [
      "(20000, 100, 500)\n"
     ]
    }
   ],
   "source": [
    "print(train_oh.shape)"
   ]
  },
  {
   "cell_type": "code",
   "execution_count": 24,
   "id": "219936cc",
   "metadata": {},
   "outputs": [
    {
     "name": "stdout",
     "output_type": "stream",
     "text": [
      "[0. 0. 0. 0. 0. 0. 0. 0. 0. 0. 1. 0.]\n"
     ]
    }
   ],
   "source": [
    "print(train_oh[0][0][:12])"
   ]
  },
  {
   "cell_type": "code",
   "execution_count": 25,
   "id": "8fbca56f",
   "metadata": {},
   "outputs": [
    {
     "name": "stdout",
     "output_type": "stream",
     "text": [
      "1.0\n"
     ]
    }
   ],
   "source": [
    "print(np.sum(train_oh[0][0]))"
   ]
  },
  {
   "cell_type": "code",
   "execution_count": 26,
   "id": "45704211",
   "metadata": {},
   "outputs": [],
   "source": [
    "val_oh = keras.utils.to_categorical(val_seq)"
   ]
  },
  {
   "cell_type": "code",
   "execution_count": 27,
   "id": "89e9b9ba",
   "metadata": {},
   "outputs": [
    {
     "name": "stdout",
     "output_type": "stream",
     "text": [
      "Model: \"sequential\"\n",
      "_________________________________________________________________\n",
      " Layer (type)                Output Shape              Param #   \n",
      "=================================================================\n",
      " simple_rnn (SimpleRNN)      (None, 8)                 4072      \n",
      "                                                                 \n",
      " dense (Dense)               (None, 1)                 9         \n",
      "                                                                 \n",
      "=================================================================\n",
      "Total params: 4,081\n",
      "Trainable params: 4,081\n",
      "Non-trainable params: 0\n",
      "_________________________________________________________________\n"
     ]
    }
   ],
   "source": [
    "model.summary()"
   ]
  },
  {
   "cell_type": "markdown",
   "id": "6b1ad270",
   "metadata": {},
   "source": [
    "- 500x8 = 4000\n",
    "- 8x8 = 64\n",
    "- 4000+64+8=4072"
   ]
  },
  {
   "cell_type": "code",
   "execution_count": 29,
   "id": "cbf06037",
   "metadata": {},
   "outputs": [
    {
     "name": "stdout",
     "output_type": "stream",
     "text": [
      "Epoch 1/100\n",
      "313/313 [==============================] - 20s 55ms/step - loss: 0.6985 - accuracy: 0.5117 - val_loss: 0.6960 - val_accuracy: 0.5152\n",
      "Epoch 2/100\n",
      "313/313 [==============================] - 15s 48ms/step - loss: 0.6939 - accuracy: 0.5221 - val_loss: 0.6930 - val_accuracy: 0.5220\n",
      "Epoch 3/100\n",
      "313/313 [==============================] - 14s 46ms/step - loss: 0.6902 - accuracy: 0.5311 - val_loss: 0.6903 - val_accuracy: 0.5314\n",
      "Epoch 4/100\n",
      "313/313 [==============================] - 14s 44ms/step - loss: 0.6869 - accuracy: 0.5433 - val_loss: 0.6873 - val_accuracy: 0.5422\n",
      "Epoch 5/100\n",
      "313/313 [==============================] - 14s 43ms/step - loss: 0.6835 - accuracy: 0.5541 - val_loss: 0.6842 - val_accuracy: 0.5526\n",
      "Epoch 6/100\n",
      "313/313 [==============================] - 13s 43ms/step - loss: 0.6793 - accuracy: 0.5698 - val_loss: 0.6797 - val_accuracy: 0.5678\n",
      "Epoch 7/100\n",
      "313/313 [==============================] - 15s 49ms/step - loss: 0.6732 - accuracy: 0.5868 - val_loss: 0.6715 - val_accuracy: 0.5962\n",
      "Epoch 8/100\n",
      "313/313 [==============================] - 16s 50ms/step - loss: 0.6539 - accuracy: 0.6236 - val_loss: 0.6290 - val_accuracy: 0.6562\n",
      "Epoch 9/100\n",
      "313/313 [==============================] - 13s 41ms/step - loss: 0.6122 - accuracy: 0.6717 - val_loss: 0.6041 - val_accuracy: 0.6866\n",
      "Epoch 10/100\n",
      "313/313 [==============================] - 13s 40ms/step - loss: 0.5916 - accuracy: 0.6970 - val_loss: 0.5854 - val_accuracy: 0.7024\n",
      "Epoch 11/100\n",
      "313/313 [==============================] - 13s 42ms/step - loss: 0.5727 - accuracy: 0.7125 - val_loss: 0.5689 - val_accuracy: 0.7200\n",
      "Epoch 12/100\n",
      "313/313 [==============================] - 13s 43ms/step - loss: 0.5563 - accuracy: 0.7269 - val_loss: 0.5550 - val_accuracy: 0.7296\n",
      "Epoch 13/100\n",
      "313/313 [==============================] - 13s 40ms/step - loss: 0.5396 - accuracy: 0.7393 - val_loss: 0.5403 - val_accuracy: 0.7390\n",
      "Epoch 14/100\n",
      "313/313 [==============================] - 13s 41ms/step - loss: 0.5253 - accuracy: 0.7498 - val_loss: 0.5266 - val_accuracy: 0.7474\n",
      "Epoch 15/100\n",
      "313/313 [==============================] - 13s 42ms/step - loss: 0.5135 - accuracy: 0.7595 - val_loss: 0.5155 - val_accuracy: 0.7524\n",
      "Epoch 16/100\n",
      "313/313 [==============================] - 13s 40ms/step - loss: 0.5038 - accuracy: 0.7653 - val_loss: 0.5115 - val_accuracy: 0.7596\n",
      "Epoch 17/100\n",
      "313/313 [==============================] - 13s 42ms/step - loss: 0.4955 - accuracy: 0.7681 - val_loss: 0.5014 - val_accuracy: 0.7652\n",
      "Epoch 18/100\n",
      "313/313 [==============================] - 13s 41ms/step - loss: 0.4865 - accuracy: 0.7768 - val_loss: 0.4952 - val_accuracy: 0.7690\n",
      "Epoch 19/100\n",
      "313/313 [==============================] - 13s 40ms/step - loss: 0.4793 - accuracy: 0.7804 - val_loss: 0.4944 - val_accuracy: 0.7652\n",
      "Epoch 20/100\n",
      "313/313 [==============================] - 13s 43ms/step - loss: 0.4734 - accuracy: 0.7835 - val_loss: 0.4827 - val_accuracy: 0.7772\n",
      "Epoch 21/100\n",
      "313/313 [==============================] - 13s 41ms/step - loss: 0.4669 - accuracy: 0.7865 - val_loss: 0.4799 - val_accuracy: 0.7762\n",
      "Epoch 22/100\n",
      "313/313 [==============================] - 13s 40ms/step - loss: 0.4618 - accuracy: 0.7911 - val_loss: 0.4754 - val_accuracy: 0.7770\n",
      "Epoch 23/100\n",
      "313/313 [==============================] - 14s 44ms/step - loss: 0.4576 - accuracy: 0.7922 - val_loss: 0.4732 - val_accuracy: 0.7776\n",
      "Epoch 24/100\n",
      "313/313 [==============================] - 13s 41ms/step - loss: 0.4506 - accuracy: 0.8001 - val_loss: 0.4716 - val_accuracy: 0.7772\n",
      "Epoch 25/100\n",
      "313/313 [==============================] - 13s 40ms/step - loss: 0.4478 - accuracy: 0.7990 - val_loss: 0.4682 - val_accuracy: 0.7812\n",
      "Epoch 26/100\n",
      "313/313 [==============================] - 13s 41ms/step - loss: 0.4440 - accuracy: 0.8029 - val_loss: 0.4645 - val_accuracy: 0.7860\n",
      "Epoch 27/100\n",
      "313/313 [==============================] - 13s 41ms/step - loss: 0.4410 - accuracy: 0.8038 - val_loss: 0.4657 - val_accuracy: 0.7846\n",
      "Epoch 28/100\n",
      "313/313 [==============================] - 12s 40ms/step - loss: 0.4378 - accuracy: 0.8058 - val_loss: 0.4654 - val_accuracy: 0.7840\n",
      "Epoch 29/100\n",
      "313/313 [==============================] - 13s 40ms/step - loss: 0.4350 - accuracy: 0.8063 - val_loss: 0.4618 - val_accuracy: 0.7844\n",
      "Epoch 30/100\n",
      "313/313 [==============================] - 12s 40ms/step - loss: 0.4319 - accuracy: 0.8087 - val_loss: 0.4614 - val_accuracy: 0.7858\n",
      "Epoch 31/100\n",
      "313/313 [==============================] - 13s 40ms/step - loss: 0.4299 - accuracy: 0.8106 - val_loss: 0.4590 - val_accuracy: 0.7848\n",
      "Epoch 32/100\n",
      "313/313 [==============================] - 13s 40ms/step - loss: 0.4278 - accuracy: 0.8112 - val_loss: 0.4601 - val_accuracy: 0.7840\n",
      "Epoch 33/100\n",
      "313/313 [==============================] - 12s 40ms/step - loss: 0.4259 - accuracy: 0.8100 - val_loss: 0.4599 - val_accuracy: 0.7850\n",
      "Epoch 34/100\n",
      "313/313 [==============================] - 13s 40ms/step - loss: 0.4234 - accuracy: 0.8116 - val_loss: 0.4599 - val_accuracy: 0.7870\n"
     ]
    }
   ],
   "source": [
    "rmsprop = keras.optimizers.RMSprop(learning_rate=1e-4)\n",
    "model.compile(optimizer=rmsprop, loss='binary_crossentropy',\n",
    "             metrics=['accuracy'])\n",
    "checkpoint_cb = keras.callbacks.ModelCheckpoint('best-simplernn-model.h5',\n",
    "                                               save_best_only=True)\n",
    "early_stopping_cb = keras.callbacks.EarlyStopping(patience=3,\n",
    "                                                 restore_best_weights=True)\n",
    "history = model.fit(train_oh, train_target, epochs=100, batch_size=64,\n",
    "                   validation_data = (val_oh, val_target),\n",
    "                   callbacks=[checkpoint_cb, early_stopping_cb])"
   ]
  },
  {
   "cell_type": "code",
   "execution_count": 30,
   "id": "4904d448",
   "metadata": {},
   "outputs": [
    {
     "data": {
      "image/png": "[encoded data removed]",
      "text/plain": [
       "<Figure size 432x288 with 1 Axes>"
      ]
     },
     "metadata": {
      "needs_background": "light"
     },
     "output_type": "display_data"
    }
   ],
   "source": [
    "plt.plot(history.history['loss'])\n",
    "plt.plot(history.history['val_loss'])\n",
    "plt.xlabel('epoch')\n",
    "plt.ylabel('loss')\n",
    "plt.legend(['train', 'val'])\n",
    "plt.show()"
   ]
  },
  {
   "cell_type": "code",
   "execution_count": 31,
   "id": "cfcb032d",
   "metadata": {},
   "outputs": [
    {
     "name": "stdout",
     "output_type": "stream",
     "text": [
      "8000000 4000000000\n"
     ]
    }
   ],
   "source": [
    "print(train_seq.nbytes, train_oh.nbytes)"
   ]
  },
  {
   "cell_type": "markdown",
   "id": "8e2d1074",
   "metadata": {},
   "source": [
    "- 입력 데이터가 엄청 커진다는 단점 발생"
   ]
  },
  {
   "cell_type": "markdown",
   "id": "0527c52d",
   "metadata": {},
   "source": [
    "### 단어 임베딩 사용\n",
    "- 각 단어를 고정된 크기의 실수 벡터로 바꿈"
   ]
  },
  {
   "cell_type": "code",
   "execution_count": 32,
   "id": "14b5799b",
   "metadata": {},
   "outputs": [],
   "source": [
    "model2 = keras.Sequential()\n",
    "model2.add(keras.layers.Embedding(500,16, input_length=100))\n",
    "model2.add(keras.layers.SimpleRNN(8))\n",
    "model2.add(keras.layers.Dense(1, activation='sigmoid'))"
   ]
  },
  {
   "cell_type": "code",
   "execution_count": 33,
   "id": "c3d38633",
   "metadata": {},
   "outputs": [
    {
     "name": "stdout",
     "output_type": "stream",
     "text": [
      "Model: \"sequential_1\"\n",
      "_________________________________________________________________\n",
      " Layer (type)                Output Shape              Param #   \n",
      "=================================================================\n",
      " embedding (Embedding)       (None, 100, 16)           8000      \n",
      "                                                                 \n",
      " simple_rnn_1 (SimpleRNN)    (None, 8)                 200       \n",
      "                                                                 \n",
      " dense_1 (Dense)             (None, 1)                 9         \n",
      "                                                                 \n",
      "=================================================================\n",
      "Total params: 8,209\n",
      "Trainable params: 8,209\n",
      "Non-trainable params: 0\n",
      "_________________________________________________________________\n"
     ]
    }
   ],
   "source": [
    "model2.summary()"
   ]
  },
  {
   "cell_type": "code",
   "execution_count": 39,
   "id": "c586690f",
   "metadata": {},
   "outputs": [
    {
     "name": "stdout",
     "output_type": "stream",
     "text": [
      "Epoch 1/100\n",
      "313/313 [==============================] - 17s 45ms/step - loss: 0.6963 - accuracy: 0.5028 - val_loss: 0.6928 - val_accuracy: 0.5114\n",
      "Epoch 2/100\n",
      "313/313 [==============================] - 11s 34ms/step - loss: 0.6910 - accuracy: 0.5258 - val_loss: 0.6904 - val_accuracy: 0.5222\n",
      "Epoch 3/100\n",
      "313/313 [==============================] - 13s 40ms/step - loss: 0.6870 - accuracy: 0.5476 - val_loss: 0.6883 - val_accuracy: 0.5340\n",
      "Epoch 4/100\n",
      "313/313 [==============================] - 14s 45ms/step - loss: 0.6831 - accuracy: 0.5618 - val_loss: 0.6863 - val_accuracy: 0.5380\n",
      "Epoch 5/100\n",
      "313/313 [==============================] - 14s 44ms/step - loss: 0.6790 - accuracy: 0.5778 - val_loss: 0.6844 - val_accuracy: 0.5466\n",
      "Epoch 6/100\n",
      "313/313 [==============================] - 14s 43ms/step - loss: 0.6747 - accuracy: 0.5896 - val_loss: 0.6824 - val_accuracy: 0.5592\n",
      "Epoch 7/100\n",
      "313/313 [==============================] - 12s 40ms/step - loss: 0.6702 - accuracy: 0.5978 - val_loss: 0.6804 - val_accuracy: 0.5620\n",
      "Epoch 8/100\n",
      "313/313 [==============================] - 14s 45ms/step - loss: 0.6654 - accuracy: 0.6073 - val_loss: 0.6783 - val_accuracy: 0.5606\n",
      "Epoch 9/100\n",
      "313/313 [==============================] - 15s 47ms/step - loss: 0.6604 - accuracy: 0.6203 - val_loss: 0.6762 - val_accuracy: 0.5658\n",
      "Epoch 10/100\n",
      "313/313 [==============================] - 13s 40ms/step - loss: 0.6552 - accuracy: 0.6248 - val_loss: 0.6743 - val_accuracy: 0.5664\n",
      "Epoch 11/100\n",
      "313/313 [==============================] - 13s 41ms/step - loss: 0.6500 - accuracy: 0.6318 - val_loss: 0.6717 - val_accuracy: 0.5712\n",
      "Epoch 12/100\n",
      "313/313 [==============================] - 11s 35ms/step - loss: 0.6444 - accuracy: 0.6374 - val_loss: 0.6688 - val_accuracy: 0.5776\n",
      "Epoch 13/100\n",
      "313/313 [==============================] - 13s 40ms/step - loss: 0.6389 - accuracy: 0.6444 - val_loss: 0.6656 - val_accuracy: 0.5808\n",
      "Epoch 14/100\n",
      "313/313 [==============================] - 14s 44ms/step - loss: 0.6330 - accuracy: 0.6500 - val_loss: 0.6626 - val_accuracy: 0.5860\n",
      "Epoch 15/100\n",
      "313/313 [==============================] - 14s 43ms/step - loss: 0.6271 - accuracy: 0.6528 - val_loss: 0.6578 - val_accuracy: 0.5920\n",
      "Epoch 16/100\n",
      "313/313 [==============================] - 12s 37ms/step - loss: 0.6208 - accuracy: 0.6562 - val_loss: 0.6516 - val_accuracy: 0.6040\n",
      "Epoch 17/100\n",
      "313/313 [==============================] - 13s 40ms/step - loss: 0.6135 - accuracy: 0.6625 - val_loss: 0.6433 - val_accuracy: 0.6188\n",
      "Epoch 18/100\n",
      "313/313 [==============================] - 12s 39ms/step - loss: 0.6037 - accuracy: 0.6726 - val_loss: 0.6289 - val_accuracy: 0.6388\n",
      "Epoch 19/100\n",
      "313/313 [==============================] - 13s 43ms/step - loss: 0.5848 - accuracy: 0.6945 - val_loss: 0.5928 - val_accuracy: 0.6898\n",
      "Epoch 20/100\n",
      "313/313 [==============================] - 13s 42ms/step - loss: 0.5252 - accuracy: 0.7372 - val_loss: 0.5299 - val_accuracy: 0.7404\n",
      "Epoch 21/100\n",
      "313/313 [==============================] - 14s 45ms/step - loss: 0.4918 - accuracy: 0.7660 - val_loss: 0.5174 - val_accuracy: 0.7504\n",
      "Epoch 22/100\n",
      "313/313 [==============================] - 14s 43ms/step - loss: 0.4780 - accuracy: 0.7768 - val_loss: 0.5100 - val_accuracy: 0.7560\n",
      "Epoch 23/100\n",
      "313/313 [==============================] - 14s 43ms/step - loss: 0.4652 - accuracy: 0.7862 - val_loss: 0.5083 - val_accuracy: 0.7590\n",
      "Epoch 24/100\n",
      "313/313 [==============================] - 14s 45ms/step - loss: 0.4567 - accuracy: 0.7940 - val_loss: 0.4989 - val_accuracy: 0.7632\n",
      "Epoch 25/100\n",
      "313/313 [==============================] - 14s 45ms/step - loss: 0.4487 - accuracy: 0.7994 - val_loss: 0.4950 - val_accuracy: 0.7672\n",
      "Epoch 26/100\n",
      "313/313 [==============================] - 14s 46ms/step - loss: 0.4417 - accuracy: 0.8037 - val_loss: 0.4957 - val_accuracy: 0.7644\n",
      "Epoch 27/100\n",
      "313/313 [==============================] - 14s 46ms/step - loss: 0.4366 - accuracy: 0.8093 - val_loss: 0.4903 - val_accuracy: 0.7694\n",
      "Epoch 28/100\n",
      "313/313 [==============================] - 14s 46ms/step - loss: 0.4312 - accuracy: 0.8125 - val_loss: 0.4872 - val_accuracy: 0.7738\n",
      "Epoch 29/100\n",
      "313/313 [==============================] - 12s 40ms/step - loss: 0.4267 - accuracy: 0.8159 - val_loss: 0.4916 - val_accuracy: 0.7734\n",
      "Epoch 30/100\n",
      "313/313 [==============================] - 13s 42ms/step - loss: 0.4232 - accuracy: 0.8174 - val_loss: 0.4857 - val_accuracy: 0.7742\n",
      "Epoch 31/100\n",
      "313/313 [==============================] - 12s 39ms/step - loss: 0.4196 - accuracy: 0.8191 - val_loss: 0.4869 - val_accuracy: 0.7738\n",
      "Epoch 32/100\n",
      "313/313 [==============================] - 14s 43ms/step - loss: 0.4164 - accuracy: 0.8216 - val_loss: 0.4867 - val_accuracy: 0.7718\n",
      "Epoch 33/100\n",
      "313/313 [==============================] - 12s 38ms/step - loss: 0.4134 - accuracy: 0.8229 - val_loss: 0.4899 - val_accuracy: 0.7720\n"
     ]
    }
   ],
   "source": [
    "rmsprop = keras.optimizers.RMSprop(learning_rate=1e-4)\n",
    "model2.compile(optimizer=rmsprop, loss='binary_crossentropy',\n",
    "             metrics=['accuracy'])\n",
    "checkpoint_cb = keras.callbacks.ModelCheckpoint('best-embedding-model.h5',\n",
    "                                               save_best_only=True)\n",
    "early_stopping_cb = keras.callbacks.EarlyStopping(patience=3,\n",
    "                                                 restore_best_weights=True)\n",
    "history = model2.fit(train_seq, train_target, epochs=100, batch_size=64,\n",
    "                   validation_data = (val_seq, val_target),\n",
    "                   callbacks=[checkpoint_cb, early_stopping_cb])"
   ]
  },
  {
   "cell_type": "code",
   "execution_count": 40,
   "id": "cf00281d",
   "metadata": {},
   "outputs": [
    {
     "data": {
      "image/png": "[encoded data removed]",
      "text/plain": [
       "<Figure size 432x288 with 1 Axes>"
      ]
     },
     "metadata": {
      "needs_background": "light"
     },
     "output_type": "display_data"
    }
   ],
   "source": [
    "plt.plot(history.history['loss'])\n",
    "plt.plot(history.history['val_loss'])\n",
    "plt.xlabel('epoch')\n",
    "plt.ylabel('loss')\n",
    "plt.legend(['train', 'val'])\n",
    "plt.show()"
   ]
  },
  {
   "cell_type": "code",
   "execution_count": null,
   "id": "4383364b",
   "metadata": {},
   "outputs": [],
   "source": [
    "from tensorflow import keras\n",
    "model = keras.Sequential()\n",
    "model.add(keras.layers.Embedding(500, 16, input_length=100))\n",
    "model.add(keras.layers.LSTM(8))\n",
    "model.add(keras.layers.Dense(1, activation='sigmoid'))"
   ]
  },
  {
   "cell_type": "code",
   "execution_count": null,
   "id": "1384ad4c",
   "metadata": {},
   "outputs": [],
   "source": [
    "model.summary()"
   ]
  },
  {
   "cell_type": "code",
   "execution_count": null,
   "id": "008d9b19",
   "metadata": {},
   "outputs": [],
   "source": [
    "rmsprop = keras.optimizers.RMSprop(learning_rate=1e-4)\n",
    "model.compile(optimizer=rmsprop, loss='binary_crossentropy',\n",
    "             metrics=['accuracy'])\n",
    "checkpoint_cb = keras.callbacks.ModelCheckpoint('best-lstm-model.h5',\n",
    "                                               save_best_only=True)\n",
    "early_stopping_cb = keras.callbacks.EarlyStopping(patience=3,\n",
    "                                                 restore_best_weights=True)\n",
    "history = model.fit(train_seq, train_target, epochs=100, batch_size=64,\n",
    "                   validation_data = (val_seq, val_target),\n",
    "                   callbacks=[checkpoint_cb, early_stopping_cb])"
   ]
  },
  {
   "cell_type": "code",
   "execution_count": null,
   "id": "5836eefb",
   "metadata": {},
   "outputs": [],
   "source": []
  },
  {
   "cell_type": "code",
   "execution_count": null,
   "id": "3f8c7a92",
   "metadata": {},
   "outputs": [],
   "source": []
  },
  {
   "cell_type": "code",
   "execution_count": null,
   "id": "d3f5bafc",
   "metadata": {},
   "outputs": [],
   "source": []
  },
  {
   "cell_type": "code",
   "execution_count": null,
   "id": "e514e756",
   "metadata": {},
   "outputs": [],
   "source": []
  },
  {
   "cell_type": "code",
   "execution_count": null,
   "id": "64848446",
   "metadata": {},
   "outputs": [],
   "source": []
  },
  {
   "cell_type": "code",
   "execution_count": null,
   "id": "5f4ff955",
   "metadata": {},
   "outputs": [],
   "source": []
  },
  {
   "cell_type": "code",
   "execution_count": null,
   "id": "6a27a222",
   "metadata": {},
   "outputs": [],
   "source": []
  },
  {
   "cell_type": "code",
   "execution_count": null,
   "id": "41a1c316",
   "metadata": {},
   "outputs": [],
   "source": []
  }
 ],
 "metadata": {
  "kernelspec": {
   "display_name": "Python 3 (ipykernel)",
   "language": "python",
   "name": "python3"
  },
  "language_info": {
   "codemirror_mode": {
    "name": "ipython",
    "version": 3
   },
   "file_extension": ".py",
   "mimetype": "text/x-python",
   "name": "python",
   "nbconvert_exporter": "python",
   "pygments_lexer": "ipython3",
   "version": "3.9.7"
  }
 },
 "nbformat": 4,
 "nbformat_minor": 5
}
